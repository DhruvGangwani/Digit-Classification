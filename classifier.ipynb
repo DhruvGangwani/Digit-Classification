{
  "nbformat": 4,
  "nbformat_minor": 0,
  "metadata": {
    "colab": {
      "name": "assignment_harsham.ipynb",
      "provenance": [],
      "collapsed_sections": []
    },
    "kernelspec": {
      "name": "python3",
      "display_name": "Python 3"
    },
    "language_info": {
      "name": "python"
    },
    "accelerator": "GPU"
  },
  "cells": [
    {
      "cell_type": "code",
      "metadata": {
        "colab": {
          "base_uri": "https://localhost:8080/"
        },
        "id": "YZmtHmJwGG-D",
        "outputId": "a1539424-b071-4fa3-f960-6c1bf9d2f48a"
      },
      "source": [
        "import pandas as pd\n",
        "train_data = pd.read_csv('training.csv')\n",
        "test_data = pd.read_csv('test.csv')\n",
        "\n",
        "#check null values\n",
        "print('Null values in Train Dataset')\n",
        "train_null = train_data.isnull().sum()\n",
        "# print(train_null) #No null\n",
        "\n",
        "print('Null values in Test Dataset')\n",
        "test_null = test_data.isnull().sum()\n",
        "# print(test_null) #No Null\n",
        "\n",
        "#train test split\n",
        "xtrain = train_data.iloc[:, :-1]\n",
        "ytrain = train_data['classes']\n",
        "xtest = test_data.iloc[:, :-1]\n",
        "ytest = test_data['classes']"
      ],
      "execution_count": 16,
      "outputs": [
        {
          "output_type": "stream",
          "name": "stdout",
          "text": [
            "Null values in Train Dataset\n",
            "Null values in Test Dataset\n"
          ]
        }
      ]
    },
    {
      "cell_type": "code",
      "metadata": {
        "id": "2ioYd0UfMTJl"
      },
      "source": [
        "from sklearn.model_selection import cross_val_score\n",
        "from sklearn.neighbors import KNeighborsClassifier\n",
        "import numpy as np\n",
        "\n",
        "def compute_neighbor(xtrain, ytrain, min_neighbor, max_neighbor):\n",
        "  all_neighbor_scores = dict()\n",
        "  for neighbor_value in range(min_neighbor, max_neighbor+1):\n",
        "    knn_clf = KNeighborsClassifier(n_neighbors = neighbor_value)\n",
        "    neighbor_scores = cross_val_score(knn_clf, xtrain, ytrain, cv=5, scoring='accuracy')\n",
        "    all_neighbor_scores[neighbor_value] = np.mean(neighbor_scores)\n",
        "    print(neighbor_value)\n",
        "  return all_neighbor_scores\n"
      ],
      "execution_count": 17,
      "outputs": []
    },
    {
      "cell_type": "code",
      "metadata": {
        "colab": {
          "base_uri": "https://localhost:8080/"
        },
        "id": "Dm6AlHJ7Nuty",
        "outputId": "7ac17a12-0a4d-444f-d7e0-c78b4d01df3c"
      },
      "source": [
        "knn_results = compute_neighbor(xtrain, ytrain, min_neighbor=1, max_neighbor=11)\n",
        "print(knn_results)"
      ],
      "execution_count": 18,
      "outputs": [
        {
          "output_type": "stream",
          "name": "stdout",
          "text": [
            "1\n",
            "2\n",
            "3\n",
            "4\n",
            "5\n",
            "6\n",
            "7\n",
            "8\n",
            "9\n",
            "10\n",
            "11\n",
            "{1: 0.954500542234004, 2: 0.9441606083731641, 3: 0.9581274852391856, 4: 0.9560562852284746, 5: 0.9565704033953221, 6: 0.954501881083397, 7: 0.9565730810941078, 8: 0.9545032199327897, 9: 0.9565717422447149, 10: 0.9550213546478157, 11: 0.9555394893628415}\n"
          ]
        }
      ]
    },
    {
      "cell_type": "code",
      "metadata": {
        "id": "SK4theAQOezv"
      },
      "source": [
        "knn_df = pd.DataFrame(knn_results.items(), columns=['Value of K', 'Accuracy'])\n",
        "knn_df.to_csv('knn_train_cv_result.csv', index=False)"
      ],
      "execution_count": 19,
      "outputs": []
    },
    {
      "cell_type": "code",
      "metadata": {
        "colab": {
          "base_uri": "https://localhost:8080/"
        },
        "id": "mlW2q5fTRJJQ",
        "outputId": "e47285af-c3eb-473c-eaf8-524ed86c8b9a"
      },
      "source": [
        "sorted_dict = {k: v for k, v in sorted(knn_results.items(), key=lambda item: item[1], reverse=True)}\n",
        "best_k_value = list(sorted_dict.keys())[0]\n",
        "print('Best value for K is :',best_k_value)"
      ],
      "execution_count": 24,
      "outputs": [
        {
          "output_type": "stream",
          "name": "stdout",
          "text": [
            "Best value for K is : 3\n"
          ]
        }
      ]
    },
    {
      "cell_type": "code",
      "metadata": {
        "id": "_lPceaPIRYAF"
      },
      "source": [
        "knn_clf = KNeighborsClassifier(n_neighbors = best_k_value)\n",
        "knn_clf.fit(xtrain, ytrain)\n",
        "ypred = knn_clf.predict(xtest)"
      ],
      "execution_count": 25,
      "outputs": []
    },
    {
      "cell_type": "code",
      "metadata": {
        "colab": {
          "base_uri": "https://localhost:8080/"
        },
        "id": "oTEf-nXjVaZx",
        "outputId": "87056567-e8f8-4aa3-f12f-1a1dcd75c674"
      },
      "source": [
        "from sklearn.metrics import accuracy_score\n",
        "accuracy = accuracy_score(ytest, ypred)\n",
        "print(f'Accuracy of best model on best k = {best_k_value} value : {accuracy}')"
      ],
      "execution_count": 28,
      "outputs": [
        {
          "output_type": "stream",
          "name": "stdout",
          "text": [
            "Accuracy of best model on best k = 3 value : 0.985200845665962\n"
          ]
        }
      ]
    },
    {
      "cell_type": "code",
      "metadata": {
        "id": "kC7N-u2LXv26"
      },
      "source": [
        ""
      ],
      "execution_count": null,
      "outputs": []
    }
  ]
}